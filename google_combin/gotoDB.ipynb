{
 "cells": [
  {
   "cell_type": "code",
   "execution_count": 1,
   "metadata": {},
   "outputs": [],
   "source": [
    "import pandas as pd\n",
    "import numpy as np\n",
    "import json\n",
    "from shapely.geometry import Point\n",
    "from shapely.geometry.polygon import Polygon\n",
    "from osgeo import ogr\n",
    "import numpy as np\n",
    "import pandas as pd\n",
    "import warnings\n",
    "warnings.simplefilter('ignore')\n",
    "import datetime\n",
    "import re\n",
    "import jieba\n",
    "import mysql.connector\n",
    "from sqlalchemy.ext.declarative import declarative_base\n",
    "from sqlalchemy import *\n",
    "from sqlalchemy.orm import sessionmaker, relationship\n",
    "from sqlalchemy import create_engine\n",
    "import model\n",
    "import time\n",
    "import googlemaps\n",
    "import os"
   ]
  },
  {
   "cell_type": "code",
   "execution_count": 2,
   "metadata": {},
   "outputs": [],
   "source": [
    "Session = sessionmaker(bind=model.engine)"
   ]
  },
  {
   "cell_type": "code",
   "execution_count": 20,
   "metadata": {},
   "outputs": [],
   "source": [
    "#model.drop_db()\n",
    "#model.init_db()"
   ]
  },
  {
   "cell_type": "code",
   "execution_count": null,
   "metadata": {},
   "outputs": [],
   "source": []
  },
  {
   "cell_type": "code",
   "execution_count": 1,
   "metadata": {},
   "outputs": [],
   "source": [
    "#### define all types in google data ,remove thoat not in this types\n",
    "foodtypes=['餐廳', '餐館', '咖啡', '熟食', '冰品', '飲料', '餃子', '牛扒', '果汁', \n",
    "      '早餐', '酒吧',  '拉麵', '居酒屋', '酒店', '雪糕', '甜品', '麵店', '麵包', \n",
    "      '冷麵', '麵食店', '美式扒房','熟食店', '珍珠奶茶', '包點', '壽司', \n",
    "      '烏冬專門店', '菜館', '三文治店', '薄餅', '曲奇餅店',  '酒樓', '海味店', \n",
    "      '餡餅店', '快餐', '酒家', '飲料店', '茶館', '餅店', '健康食品專賣店','燒烤', \n",
    "      '小食店','餐車店','餐廳','茶藝','麵館','冬甩','美食廣場','烤雞','速食','班戟',\n",
    "      '擔擔麵']\n",
    "#fstoretypes=['便利店','市場']\n",
    "nottypes=['用品店','批發商','農業用品店','供應商','溫室','住宿','肉販','批發','農產品','工作空間','書店']"
   ]
  },
  {
   "cell_type": "code",
   "execution_count": null,
   "metadata": {},
   "outputs": [],
   "source": []
  },
  {
   "cell_type": "code",
   "execution_count": 22,
   "metadata": {},
   "outputs": [],
   "source": [
    "###   檢查是否存在上述的foodtypes， 如果存在於nottypes 將會去除  避免ㄧ些怪怪的\n",
    "def checkFood(onetype,types):\n",
    "    boFood=False\n",
    "    for t in types:\n",
    "        if(t in onetype):\n",
    "            boFood=True\n",
    "            break\n",
    "    return boFood\n",
    "def checkNotFood(onetype,types):\n",
    "    boFood=False\n",
    "    for t in types:\n",
    "        if(t in onetype):\n",
    "            boFood=True\n",
    "            break\n",
    "    return boFood   \n",
    "\n",
    "##### 滿足 googletype  為上述的成分\n",
    "#### 滿足 types 裡面有 food 的因子o\n",
    "def get_check(data):\n",
    "    boCheck=[]\n",
    "    for i,j in zip(data['googletype'],data['type']):\n",
    "        boTmp=False\n",
    "        if('food' in str(j)):\n",
    "            boTmp=True\n",
    "        if( checkFood(str(i),foodtypes) ):\n",
    "            boTmp=True\n",
    "        if(checkNotFood(str(i),nottypes)):\n",
    "            boTmp=False\n",
    "        boCheck.append(boTmp)\n",
    "    return boCheck"
   ]
  },
  {
   "cell_type": "code",
   "execution_count": 23,
   "metadata": {},
   "outputs": [],
   "source": []
  },
  {
   "cell_type": "code",
   "execution_count": 24,
   "metadata": {},
   "outputs": [],
   "source": [
    "def get_merge_google(path,inputName):\n",
    "    dataGoogleApi=pd.read_csv(path+'GoogleApi/'+inputName+'.csv')\n",
    "    dataGoogleInfo=pd.read_csv(path+'GoogleInfo/'+inputName+'.csv')\n",
    "    dataGoogle=pd.merge(dataGoogleApi,dataGoogleInfo,on='placeid')\n",
    "    if os.path.isdir(path+'merage/'):\n",
    "        pass\n",
    "    else:\n",
    "        os.makedirs(path+'merage/')\n",
    "    dataGoogle.to_csv(path+'merage/'+inputName+'.csv')\n",
    "    dataGoogle.columns=['from', 'icon', 'id', 'lat', 'lon', 'name', 'placeid', 'price',\n",
    "       'rating', 'type', 'user_ratings_total', 'vicinity', 'url',\n",
    "       'googletype', 'imageUrl', 'opentime', 'phone', 'ray', 'review',\n",
    "       'webUrl']\n",
    "    return dataGoogle"
   ]
  },
  {
   "cell_type": "code",
   "execution_count": null,
   "metadata": {},
   "outputs": [],
   "source": []
  },
  {
   "cell_type": "code",
   "execution_count": 25,
   "metadata": {},
   "outputs": [],
   "source": [
    "### 定義一下高雄區域，利用地址分類資料  ######\n",
    "def get_define_place(data):\n",
    "    kao=['鼓山區','三民區','新興區','前金區','苓雅區','鹽埕區','前鎮區','旗津區','左營區','鳳山區','大寮區','大樹區','鳥松區','小港區','楠梓區','林園區','岡山區','仁武區','大社區','旗山區']\n",
    "    place='高雄'\n",
    "    area=[]\n",
    "    city=[]\n",
    "    for st,i in enumerate(data['vicinity']):\n",
    "        areatmp=None\n",
    "        placetmp=None\n",
    "        for j in kao:\n",
    "            if('鳳山市' in i):\n",
    "                areatmp='鳳山區'\n",
    "                placetmp=place            \n",
    "            if(j in i):\n",
    "                areatmp=j\n",
    "                placetmp=place\n",
    "        if(pd.isnull(areatmp)):print(i)\n",
    "        area.append(areatmp)\n",
    "        city.append(placetmp)\n",
    "    data['area']=area\n",
    "    data['city']=city\n",
    "    return data"
   ]
  },
  {
   "cell_type": "code",
   "execution_count": 43,
   "metadata": {},
   "outputs": [],
   "source": [
    "#將資料儲存到DB裡面\n",
    "def insert_DB(food):\n",
    "    session = Session()\n",
    "    food=food.where(food.notnull(), None)\n",
    "    \n",
    "    for st in range(len(food)):\n",
    "        switch_command = session.query(model.google).\\\n",
    "                            filter(model.google.placeid == food['placeid'][st]).first()\n",
    "        #檢查資料庫有資料\n",
    "        if switch_command:\n",
    "        #更新資料\n",
    "            pass\n",
    "        else:\n",
    "        #建立資料\n",
    "            #food['rating'][st]='NULL' if pd.isna(food['rating'][st])else food['rating'][st]\n",
    "            #food['rating'][st]='NULL' if pd.isna(food['rating'][st])else food['user_ratings_total'][st]\n",
    "#             food = food.fillna('NULL')\n",
    "            food['name'][st]=str(food['name'][st]).replace('|','').replace('、','').replace(',','').replace(':','')\n",
    "            food['type'][st]=str(food['type'][st]).replace(',','_')\n",
    "            food['vicinity'][st]=str(food['vicinity'][st]).replace(',','')\n",
    "        \n",
    "            session.add(model.google(icon=food['icon'][st],\\\n",
    "                             lat=food['lat'][st],\\\n",
    "                             lon=food['lon'][st],\\\n",
    "                             name=food['name'][st],\\\n",
    "                             placeid=food['placeid'][st],\\\n",
    "                             rating=food['rating'][st],\\\n",
    "                             review=food['user_ratings_total'][st],\\\n",
    "                             price=food['price'][st],\\\n",
    "                             url=food['url'][st],\\\n",
    "                             types=food['type'][st],\\\n",
    "                             phone=food['phone'][st],\\\n",
    "                             vicinity=food['vicinity'][st],\\\n",
    "                             googletype=food['googletype'][st],\\\n",
    "                             imageUrl=food['imageUrl'][st],\\\n",
    "                             webUrl=food['webUrl'][st],\\\n",
    "                             area=food['area'][st],\\\n",
    "                             city=food['city'][st],\\\n",
    "                             opentime=food['opentime'][st]))\n",
    "            session.commit()\n",
    "    session.close()"
   ]
  },
  {
   "cell_type": "code",
   "execution_count": null,
   "metadata": {},
   "outputs": [],
   "source": []
  },
  {
   "cell_type": "code",
   "execution_count": 44,
   "metadata": {},
   "outputs": [
    {
     "name": "stdout",
     "output_type": "stream",
     "text": [
      "中正四路71號\n",
      "高雄市\n",
      "南台路128號\n",
      "No. 163-1, Linsen 1st Road, Xinxing District\n",
      "3F, No, No. 267, 林森一路\n"
     ]
    }
   ],
   "source": [
    "if __name__ == '__main__':\n",
    "    ### 讀取資料!!!\n",
    "    inputName='Xinxing'\n",
    "    path='input/Kaohsiung/'\n",
    "    dataGoogle=get_merge_google(path,inputName)\n",
    "    #### 取出  food 的內容\n",
    "    fo\n",
    "    #### 增加地理念 哪一區\n",
    "    food=get_define_place(food)\n",
    "    insert_DB(food)"
   ]
  },
  {
   "cell_type": "code",
   "execution_count": null,
   "metadata": {},
   "outputs": [],
   "source": []
  },
  {
   "cell_type": "code",
   "execution_count": null,
   "metadata": {},
   "outputs": [],
   "source": []
  },
  {
   "cell_type": "code",
   "execution_count": null,
   "metadata": {},
   "outputs": [],
   "source": []
  },
  {
   "cell_type": "code",
   "execution_count": 1,
   "metadata": {},
   "outputs": [],
   "source": [
    "import googledb"
   ]
  },
  {
   "cell_type": "code",
   "execution_count": 2,
   "metadata": {},
   "outputs": [],
   "source": [
    "inputName='Xinxing'\n",
    "path='input/Kaohsiung/'"
   ]
  },
  {
   "cell_type": "code",
   "execution_count": 9,
   "metadata": {},
   "outputs": [],
   "source": [
    "data=googledb.GoogleDB(inputName,path).merage()"
   ]
  },
  {
   "cell_type": "code",
   "execution_count": null,
   "metadata": {},
   "outputs": [],
   "source": []
  },
  {
   "cell_type": "code",
   "execution_count": 4,
   "metadata": {},
   "outputs": [],
   "source": [
    "#### define all types in google data ,remove thoat not in this types\n",
    "foodtypes=['餐廳', '餐館', '咖啡', '熟食', '冰品', '飲料', '餃子', '牛扒', '果汁', \n",
    "      '早餐', '酒吧',  '拉麵', '居酒屋', '酒店', '雪糕', '甜品', '麵店', '麵包', \n",
    "      '冷麵', '麵食店', '美式扒房','熟食店', '珍珠奶茶', '包點', '壽司', \n",
    "      '烏冬專門店', '菜館', '三文治店', '薄餅', '曲奇餅店',  '酒樓', '海味店', \n",
    "      '餡餅店', '快餐', '酒家', '飲料店', '茶館', '餅店', '健康食品專賣店','燒烤', \n",
    "      '小食店','餐車店','餐廳','茶藝','麵館','冬甩','美食廣場','烤雞','速食','班戟',\n",
    "      '擔擔麵']\n",
    "nottypes=['用品店','批發商','農業用品店','供應商','溫室','住宿','肉販','批發','農產品',\\\n",
    "          '工作空間','書店','公關公司','食品商店','食品製造供應','珠寶商','唱片店','魚販',\\\n",
    "          '網吧','餐具店','禮盒專賣店','出版社','到會','藥房']"
   ]
  },
  {
   "cell_type": "code",
   "execution_count": 5,
   "metadata": {},
   "outputs": [],
   "source": [
    "check=googledb.CheckFood(foodtypes,nottypes,data).get_check()"
   ]
  },
  {
   "cell_type": "code",
   "execution_count": null,
   "metadata": {},
   "outputs": [],
   "source": []
  },
  {
   "cell_type": "code",
   "execution_count": 13,
   "metadata": {},
   "outputs": [
    {
     "data": {
      "text/plain": [
       "\"['locality', 'administrative_area_level_1', 'political']\""
      ]
     },
     "execution_count": 13,
     "metadata": {},
     "output_type": "execute_result"
    }
   ],
   "source": [
    "data['type'][0]"
   ]
  },
  {
   "cell_type": "code",
   "execution_count": null,
   "metadata": {},
   "outputs": [],
   "source": [
    "if 'food' in i for i in data['type']"
   ]
  },
  {
   "cell_type": "code",
   "execution_count": 15,
   "metadata": {},
   "outputs": [],
   "source": [
    "bo=[]\n",
    "for i in data['type']:\n",
    "    if('food' in i):\n",
    "        bo.append(True)\n",
    "    else:\n",
    "        bo.append(False)"
   ]
  },
  {
   "cell_type": "code",
   "execution_count": null,
   "metadata": {},
   "outputs": [],
   "source": []
  },
  {
   "cell_type": "code",
   "execution_count": null,
   "metadata": {},
   "outputs": [],
   "source": []
  },
  {
   "cell_type": "code",
   "execution_count": 8,
   "metadata": {},
   "outputs": [],
   "source": [
    "check.to_csv('test.csv',encoding='utf_8_sig')"
   ]
  },
  {
   "cell_type": "code",
   "execution_count": null,
   "metadata": {},
   "outputs": [],
   "source": []
  },
  {
   "cell_type": "code",
   "execution_count": null,
   "metadata": {},
   "outputs": [],
   "source": []
  },
  {
   "cell_type": "code",
   "execution_count": null,
   "metadata": {},
   "outputs": [],
   "source": []
  },
  {
   "cell_type": "code",
   "execution_count": null,
   "metadata": {},
   "outputs": [],
   "source": []
  },
  {
   "cell_type": "code",
   "execution_count": null,
   "metadata": {},
   "outputs": [],
   "source": []
  },
  {
   "cell_type": "code",
   "execution_count": 2,
   "metadata": {},
   "outputs": [
    {
     "data": {
      "text/plain": [
       "[0, 1, 2, 3, 4, 5, 6, 7, 8, 9]"
      ]
     },
     "execution_count": 2,
     "metadata": {},
     "output_type": "execute_result"
    }
   ],
   "source": [
    "list(range(10))"
   ]
  },
  {
   "cell_type": "code",
   "execution_count": 3,
   "metadata": {},
   "outputs": [
    {
     "data": {
      "text/plain": [
       "[0, 1, 2, 3, 4, 5, 6, 7, 8, 9]"
      ]
     },
     "execution_count": 3,
     "metadata": {},
     "output_type": "execute_result"
    }
   ],
   "source": [
    "list(range(10))"
   ]
  },
  {
   "cell_type": "code",
   "execution_count": 4,
   "metadata": {},
   "outputs": [
    {
     "data": {
      "text/plain": [
       "list"
      ]
     },
     "execution_count": 4,
     "metadata": {},
     "output_type": "execute_result"
    }
   ],
   "source": [
    "list"
   ]
  },
  {
   "cell_type": "code",
   "execution_count": 5,
   "metadata": {},
   "outputs": [
    {
     "name": "stdin",
     "output_type": "stream",
     "text": [
      ">>  dd\n"
     ]
    },
    {
     "name": "stdout",
     "output_type": "stream",
     "text": [
      "got it\n"
     ]
    }
   ],
   "source": [
    "msg = input(\">> \")\n",
    "if \"悲傷\" in msg:\n",
    "    print(\"拍拍\")\n",
    "else:\n",
    "    print(\"got it\")"
   ]
  },
  {
   "cell_type": "code",
   "execution_count": 7,
   "metadata": {},
   "outputs": [
    {
     "name": "stdout",
     "output_type": "stream",
     "text": [
      "Populating the interactive namespace from numpy and matplotlib\n"
     ]
    },
    {
     "data": {
      "text/plain": [
       "10"
      ]
     },
     "execution_count": 7,
     "metadata": {},
     "output_type": "execute_result"
    }
   ],
   "source": [
    "%pylab inline\n",
    "randint(3,21)"
   ]
  },
  {
   "cell_type": "code",
   "execution_count": 14,
   "metadata": {},
   "outputs": [],
   "source": [
    "import random"
   ]
  },
  {
   "cell_type": "code",
   "execution_count": 16,
   "metadata": {},
   "outputs": [
    {
     "data": {
      "text/plain": [
       "5"
      ]
     },
     "execution_count": 16,
     "metadata": {},
     "output_type": "execute_result"
    }
   ],
   "source": [
    "random.randint(3,21)"
   ]
  },
  {
   "cell_type": "code",
   "execution_count": null,
   "metadata": {},
   "outputs": [],
   "source": []
  },
  {
   "cell_type": "code",
   "execution_count": 8,
   "metadata": {},
   "outputs": [
    {
     "name": "stdout",
     "output_type": "stream",
     "text": [
      "                                              *\n",
      "                                          *\n",
      "         *\n",
      "                 *\n",
      "              *\n",
      "                             *\n",
      "                                  *\n",
      "                              *\n",
      "   *\n",
      "                                       *\n"
     ]
    }
   ],
   "source": [
    "for i in range(10):\n",
    "    k = randint(1,50)\n",
    "    print(\" \"*k+\"*\")"
   ]
  },
  {
   "cell_type": "code",
   "execution_count": null,
   "metadata": {},
   "outputs": [],
   "source": []
  }
 ],
 "metadata": {
  "kernelspec": {
   "display_name": "Python 3",
   "language": "python",
   "name": "python3"
  },
  "language_info": {
   "codemirror_mode": {
    "name": "ipython",
    "version": 3
   },
   "file_extension": ".py",
   "mimetype": "text/x-python",
   "name": "python",
   "nbconvert_exporter": "python",
   "pygments_lexer": "ipython3",
   "version": "3.7.3"
  }
 },
 "nbformat": 4,
 "nbformat_minor": 2
}
