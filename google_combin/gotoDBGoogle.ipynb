{
 "cells": [
  {
   "cell_type": "code",
   "execution_count": 220,
   "metadata": {},
   "outputs": [],
   "source": [
    "import numpy as np\n",
    "from difflib import *\n",
    "import os\n",
    "import pandas as pd"
   ]
  },
  {
   "cell_type": "code",
   "execution_count": 221,
   "metadata": {},
   "outputs": [],
   "source": [
    "\n",
    "import warnings\n",
    "warnings.simplefilter('ignore')\n",
    "# We will display plots right inside Jupyter Notebook\n",
    "%matplotlib inline\n",
    "import matplotlib.pyplot as plt\n",
    "plt.style.use('ggplot')\n",
    "import datetime\n",
    "\n",
    "import re\n",
    "import jieba\n",
    "import mysql.connector\n",
    "import matplotlib.font_manager as mfm"
   ]
  },
  {
   "cell_type": "code",
   "execution_count": null,
   "metadata": {},
   "outputs": [],
   "source": []
  },
  {
   "cell_type": "code",
   "execution_count": 222,
   "metadata": {},
   "outputs": [],
   "source": [
    "def get_connect():\n",
    "    conn_temp = mysql.connector.connect(\n",
    "            host = '139.162.122.115',#本地地址\n",
    "            user = 'travel',#一般默认用户名\n",
    "            passwd = 'ksd53890045',#本地数据库登录密码（这里用你自己的密码！！！）\n",
    "            db = 'travelbigdata',#数据库名称（这里用你自己的数据库名称！！！）\n",
    "            port = 3306,#安装mysql默认的端口号\n",
    "            charset = 'utf8'#设置数据库统一编码  \n",
    "    )\n",
    "    return conn_temp"
   ]
  },
  {
   "cell_type": "code",
   "execution_count": 223,
   "metadata": {},
   "outputs": [],
   "source": [
    "tablename='google'\n",
    "table={\n",
    "    'id':'int(11) not null auto_increment PRIMARY KEY',\n",
    "    'icon':'varchar(200)',\n",
    "    'lon':'DOUBLE not null',\n",
    "    'lat':'DOUBLE not null',\n",
    "    'name':'varchar(100)',\n",
    "    'placeid':  'varchar(100) not null  COMMENT \"goole查詢用\"' ,\n",
    "    'rating':'float',\n",
    "    'review':'float',\n",
    "    'price':'varchar(100)',\n",
    "    'url':'varchar(1024)',\n",
    "    'types':'varchar(1024)',\n",
    "    'phone':'varchar(100)',\n",
    "    'vicinity':'varchar(1024)',\n",
    "    'googletype':'varchar(100)',\n",
    "    'imageUrl': 'varchar(1024)',\n",
    "    'webUrl':'varchar(1024)',\n",
    "    'area':'varchar(100) ' ,\n",
    "    'city':'varchar(100) ' ,\n",
    "    'fbcount': 'int(11) COMMENT \"FB統計數量\"',\n",
    "    'tripcount': 'int(11) COMMENT \"trip統計數量\"',\n",
    "    'create_at':'datetime   NOT NULL DEFAULT CURRENT_TIMESTAMP COMMENT \"創建時間\"',\n",
    "    'modify_at':' datetime  NULL DEFAULT CURRENT_TIMESTAMP ON UPDATE CURRENT_TIMESTAMP COMMENT \"修改時間\"'\n",
    "    }\n",
    "othersql='UNIQUE (placeid)'"
   ]
  },
  {
   "cell_type": "code",
   "execution_count": 224,
   "metadata": {},
   "outputs": [],
   "source": [
    "def insetDB(tablename,table,data,conn_temp):\n",
    "    cursor = conn_temp.cursor()\n",
    "    sqltmpname=''\n",
    "    sqltmpvalue=''\n",
    "    for i in data:\n",
    "        sqltmpname+=str(i)+' '+','\n",
    "        if('char' in table[i]):\n",
    "            sqltmpvalue+='\"%s\",' %data[i]\n",
    "        else:\n",
    "            sqltmpvalue+='%s,' %data[i]\n",
    "    sqltmpname=sqltmpname[:-1]\n",
    "    sqltmpvalue=sqltmpvalue[:-1]\n",
    "    sqldata=[i for i in data]\n",
    "    sqlInsert='insert into  '+tablename+'('+sqltmpname+') VALUES ('+sqltmpvalue+')'        \n",
    "        \n",
    "    \n",
    "    sqlUpdate='UPDATE '+tablename+'  set rating=%s,review=%s,area=\"%s\",city=\"%s\" where placeid= \"%s\" ' %\\\n",
    "        (data['rating'],data['review'],data['area'],data['city'],data['placeid'])\n",
    "    \n",
    "    \n",
    "    \n",
    "    try:\n",
    "        cursor.execute(sqlInsert)\n",
    "        conn_temp.commit()\n",
    "    except:\n",
    "        print('exsit   '+str(data['placeid']))\n",
    "        #print(sqlUpdate)\n",
    "        cursor.execute(sqlUpdate)\n",
    "        conn_temp.commit()\n",
    "    return "
   ]
  },
  {
   "cell_type": "code",
   "execution_count": null,
   "metadata": {},
   "outputs": [],
   "source": []
  },
  {
   "cell_type": "code",
   "execution_count": null,
   "metadata": {},
   "outputs": [],
   "source": []
  },
  {
   "cell_type": "code",
   "execution_count": null,
   "metadata": {},
   "outputs": [],
   "source": []
  },
  {
   "cell_type": "code",
   "execution_count": 225,
   "metadata": {},
   "outputs": [],
   "source": [
    "#### define all types in google data ,remove thoat not in this types\n",
    "foodtypes=['餐廳', '餐館', '咖啡', '熟食', '冰品', '飲料', '餃子', '牛扒', '果汁', \n",
    "      '早餐', '酒吧',  '拉麵', '居酒屋', '酒店', '雪糕', '甜品', '麵店', '麵包', \n",
    "      '冷麵', '麵食店', '美式扒房','熟食店', '珍珠奶茶', '包點', '壽司', \n",
    "      '烏冬專門店', '菜館', '三文治店', '薄餅', '曲奇餅店',  '酒樓', '海味店', \n",
    "      '餡餅店', '快餐', '酒家', '飲料店', '茶館', '餅店', '健康食品專賣店','燒烤', \n",
    "      '小食店','餐車店','餐廳','茶藝']\n",
    "nottypes=['用品店','批發商']"
   ]
  },
  {
   "cell_type": "code",
   "execution_count": 226,
   "metadata": {},
   "outputs": [],
   "source": [
    "###   檢查是否存在上述的foodtypes， 如果存在於nottypes 將會去除  避免ㄧ些怪怪的\n",
    "def checkFood(onetype,types):\n",
    "    boFood=False\n",
    "    for t in types:\n",
    "        if(t in onetype):\n",
    "            boFood=True\n",
    "            break\n",
    "    return boFood\n",
    "def checkNotFood(onetype,types):\n",
    "    boFood=True\n",
    "    for t in types:\n",
    "        if(t in onetype):\n",
    "            boFood=False\n",
    "            break\n",
    "    return boFood    "
   ]
  },
  {
   "cell_type": "code",
   "execution_count": 227,
   "metadata": {},
   "outputs": [],
   "source": [
    "############################\n",
    "#\n",
    "#\n",
    "#\n",
    "#資料讀取  字的要改名阿!!\n",
    "#\n",
    "#\n",
    "#\n",
    "############################"
   ]
  },
  {
   "cell_type": "code",
   "execution_count": 228,
   "metadata": {},
   "outputs": [],
   "source": [
    "### 讀取資料!!!\n",
    "namearea='Xinxing'"
   ]
  },
  {
   "cell_type": "code",
   "execution_count": 229,
   "metadata": {},
   "outputs": [],
   "source": [
    "dataGoogleApi=pd.read_csv('data/googleApi/'+namearea+'.csv')\n",
    "dataGoogleInfo=pd.read_csv('data/googleInfo/'+namearea+'.csv')"
   ]
  },
  {
   "cell_type": "code",
   "execution_count": 230,
   "metadata": {},
   "outputs": [
    {
     "data": {
      "text/html": [
       "<div>\n",
       "<style scoped>\n",
       "    .dataframe tbody tr th:only-of-type {\n",
       "        vertical-align: middle;\n",
       "    }\n",
       "\n",
       "    .dataframe tbody tr th {\n",
       "        vertical-align: top;\n",
       "    }\n",
       "\n",
       "    .dataframe thead th {\n",
       "        text-align: right;\n",
       "    }\n",
       "</style>\n",
       "<table border=\"1\" class=\"dataframe\">\n",
       "  <thead>\n",
       "    <tr style=\"text-align: right;\">\n",
       "      <th></th>\n",
       "      <th>from</th>\n",
       "      <th>icon</th>\n",
       "      <th>id</th>\n",
       "      <th>lat</th>\n",
       "      <th>lon</th>\n",
       "      <th>name</th>\n",
       "      <th>placeid</th>\n",
       "      <th>price</th>\n",
       "      <th>rating</th>\n",
       "      <th>type</th>\n",
       "      <th>user_ratings_total</th>\n",
       "      <th>vicinity</th>\n",
       "    </tr>\n",
       "  </thead>\n",
       "  <tbody>\n",
       "    <tr>\n",
       "      <td>0</td>\n",
       "      <td>google</td>\n",
       "      <td>https://maps.gstatic.com/mapfiles/place_api/ic...</td>\n",
       "      <td>0648bea0a2602ed8324f6208ca8b63cb4d86c6f5</td>\n",
       "      <td>22.627278</td>\n",
       "      <td>120.301435</td>\n",
       "      <td>高雄市</td>\n",
       "      <td>ChIJG3R6elFDbjQRNypzVEqiJkg</td>\n",
       "      <td>NaN</td>\n",
       "      <td>NaN</td>\n",
       "      <td>['locality', 'administrative_area_level_1', 'p...</td>\n",
       "      <td>NaN</td>\n",
       "      <td>None</td>\n",
       "    </tr>\n",
       "    <tr>\n",
       "      <td>1</td>\n",
       "      <td>google</td>\n",
       "      <td>https://maps.gstatic.com/mapfiles/place_api/ic...</td>\n",
       "      <td>94cda2ead1679304161a638ab16366a5b77a0a4a</td>\n",
       "      <td>22.627360</td>\n",
       "      <td>120.297403</td>\n",
       "      <td>高雄市立大同醫院圖書室</td>\n",
       "      <td>ChIJI_0QUX0EbjQRDFz16qw7img</td>\n",
       "      <td>NaN</td>\n",
       "      <td>3.6</td>\n",
       "      <td>['library', 'point_of_interest', 'establishment']</td>\n",
       "      <td>54.0</td>\n",
       "      <td>前金區中華三路68號4F</td>\n",
       "    </tr>\n",
       "  </tbody>\n",
       "</table>\n",
       "</div>"
      ],
      "text/plain": [
       "     from                                               icon  \\\n",
       "0  google  https://maps.gstatic.com/mapfiles/place_api/ic...   \n",
       "1  google  https://maps.gstatic.com/mapfiles/place_api/ic...   \n",
       "\n",
       "                                         id        lat         lon  \\\n",
       "0  0648bea0a2602ed8324f6208ca8b63cb4d86c6f5  22.627278  120.301435   \n",
       "1  94cda2ead1679304161a638ab16366a5b77a0a4a  22.627360  120.297403   \n",
       "\n",
       "          name                      placeid  price  rating  \\\n",
       "0          高雄市  ChIJG3R6elFDbjQRNypzVEqiJkg    NaN     NaN   \n",
       "1  高雄市立大同醫院圖書室  ChIJI_0QUX0EbjQRDFz16qw7img    NaN     3.6   \n",
       "\n",
       "                                                type  user_ratings_total  \\\n",
       "0  ['locality', 'administrative_area_level_1', 'p...                 NaN   \n",
       "1  ['library', 'point_of_interest', 'establishment']                54.0   \n",
       "\n",
       "       vicinity  \n",
       "0          None  \n",
       "1  前金區中華三路68號4F  "
      ]
     },
     "execution_count": 230,
     "metadata": {},
     "output_type": "execute_result"
    }
   ],
   "source": [
    "dataGoogleApi.head(2)"
   ]
  },
  {
   "cell_type": "code",
   "execution_count": 231,
   "metadata": {},
   "outputs": [
    {
     "data": {
      "text/html": [
       "<div>\n",
       "<style scoped>\n",
       "    .dataframe tbody tr th:only-of-type {\n",
       "        vertical-align: middle;\n",
       "    }\n",
       "\n",
       "    .dataframe tbody tr th {\n",
       "        vertical-align: top;\n",
       "    }\n",
       "\n",
       "    .dataframe thead th {\n",
       "        text-align: right;\n",
       "    }\n",
       "</style>\n",
       "<table border=\"1\" class=\"dataframe\">\n",
       "  <thead>\n",
       "    <tr style=\"text-align: right;\">\n",
       "      <th></th>\n",
       "      <th>cidUrl</th>\n",
       "      <th>googletype</th>\n",
       "      <th>imageUrl</th>\n",
       "      <th>opentime</th>\n",
       "      <th>phone</th>\n",
       "      <th>placeid</th>\n",
       "      <th>rating</th>\n",
       "      <th>review</th>\n",
       "      <th>webUrl</th>\n",
       "    </tr>\n",
       "  </thead>\n",
       "  <tbody>\n",
       "    <tr>\n",
       "      <td>0</td>\n",
       "      <td>NaN</td>\n",
       "      <td>NaN</td>\n",
       "      <td>https://lh5.googleusercontent.com/p/AF1QipNS3A...</td>\n",
       "      <td>NaN</td>\n",
       "      <td>NaN</td>\n",
       "      <td>ChIJG3R6elFDbjQRNypzVEqiJkg</td>\n",
       "      <td>NaN</td>\n",
       "      <td>NaN</td>\n",
       "      <td>NaN</td>\n",
       "    </tr>\n",
       "    <tr>\n",
       "      <td>1</td>\n",
       "      <td>NaN</td>\n",
       "      <td>超級市場</td>\n",
       "      <td>//geo0.ggpht.com/cbk?cb_client=maps_sv.tactile...</td>\n",
       "      <td>NaN</td>\n",
       "      <td>NaN</td>\n",
       "      <td>ChIJoRjQeooEbjQRqXA2zk_ybeQ</td>\n",
       "      <td>NaN</td>\n",
       "      <td>NaN</td>\n",
       "      <td>NaN</td>\n",
       "    </tr>\n",
       "  </tbody>\n",
       "</table>\n",
       "</div>"
      ],
      "text/plain": [
       "  cidUrl googletype                                           imageUrl  \\\n",
       "0    NaN        NaN  https://lh5.googleusercontent.com/p/AF1QipNS3A...   \n",
       "1    NaN      超級市場   //geo0.ggpht.com/cbk?cb_client=maps_sv.tactile...   \n",
       "\n",
       "  opentime phone                      placeid rating review webUrl  \n",
       "0      NaN   NaN  ChIJG3R6elFDbjQRNypzVEqiJkg    NaN    NaN    NaN  \n",
       "1      NaN   NaN  ChIJoRjQeooEbjQRqXA2zk_ybeQ    NaN    NaN    NaN  "
      ]
     },
     "execution_count": 231,
     "metadata": {},
     "output_type": "execute_result"
    }
   ],
   "source": [
    "dataGoogleInfo.head(2)"
   ]
  },
  {
   "cell_type": "code",
   "execution_count": 232,
   "metadata": {},
   "outputs": [],
   "source": [
    "dataGoogle=pd.merge(dataGoogleApi,dataGoogleInfo,on='placeid')"
   ]
  },
  {
   "cell_type": "code",
   "execution_count": 233,
   "metadata": {},
   "outputs": [],
   "source": [
    "dataGoogle.to_csv('data/googleMerage/'+namearea+'.csv')"
   ]
  },
  {
   "cell_type": "code",
   "execution_count": 234,
   "metadata": {},
   "outputs": [
    {
     "data": {
      "text/plain": [
       "Index(['from', 'icon', 'id', 'lat', 'lon', 'name', 'placeid', 'price',\n",
       "       'rating_x', 'type', 'user_ratings_total', 'vicinity', 'cidUrl',\n",
       "       'googletype', 'imageUrl', 'opentime', 'phone', 'rating_y', 'review',\n",
       "       'webUrl'],\n",
       "      dtype='object')"
      ]
     },
     "execution_count": 234,
     "metadata": {},
     "output_type": "execute_result"
    }
   ],
   "source": [
    "dataGoogle.columns"
   ]
  },
  {
   "cell_type": "code",
   "execution_count": 235,
   "metadata": {},
   "outputs": [],
   "source": [
    "dataGoogle.columns=['from', 'icon', 'id', 'lat', 'lon', 'name', 'placeid', 'price',\n",
    "       'rating', 'type', 'user_ratings_total', 'vicinity', 'url',\n",
    "       'googletype', 'imageUrl', 'opentime', 'phone', 'ray', 'review',\n",
    "       'webUrl']"
   ]
  },
  {
   "cell_type": "code",
   "execution_count": 236,
   "metadata": {},
   "outputs": [],
   "source": [
    "##### 滿足 googletype  為上述的成分\n",
    "#### 滿足 types 裡面有 food 的因子\n",
    "\n",
    "boCheck=[]\n",
    "for i,j in zip(dataGoogle['googletype'],dataGoogle['type']):\n",
    "    boTmp=False\n",
    "    if( checkFood(str(i),foodtypes) and  checkNotFood(str(i),nottypes) ):\n",
    "        boTmp=True\n",
    "    if('food' in str(j)):\n",
    "        boTmp=True\n",
    "    boCheck.append(boTmp)"
   ]
  },
  {
   "cell_type": "code",
   "execution_count": 237,
   "metadata": {},
   "outputs": [],
   "source": [
    "#### 取出  food 的內容\n",
    "food=dataGoogle[boCheck].reset_index(drop=True)"
   ]
  },
  {
   "cell_type": "code",
   "execution_count": null,
   "metadata": {},
   "outputs": [],
   "source": []
  },
  {
   "cell_type": "code",
   "execution_count": null,
   "metadata": {},
   "outputs": [],
   "source": []
  },
  {
   "cell_type": "code",
   "execution_count": 238,
   "metadata": {},
   "outputs": [],
   "source": [
    "### 定義一下高雄區域，利用地址分類資料  ######\n",
    "kao=['鼓山區','三民區','新興區','前金區','苓雅區','鹽埕區','前鎮區','旗津區','左營區','鳳山區','大寮區','大樹區','鳥松區','小港區','楠梓區','林園區','岡山區','仁武區','大社區','旗山區']\n",
    "place='高雄'"
   ]
  },
  {
   "cell_type": "code",
   "execution_count": 239,
   "metadata": {},
   "outputs": [
    {
     "name": "stdout",
     "output_type": "stream",
     "text": [
      "中正四路71號\n",
      "高雄市\n",
      "南台路128號\n",
      "No. 163-1, Linsen 1st Road, Xinxing District\n",
      "3F, No, No. 267, 林森一路\n"
     ]
    }
   ],
   "source": [
    "area=[]\n",
    "city=[]\n",
    "for st,i in enumerate(food['vicinity']):\n",
    "    areatmp=None\n",
    "    placetmp=None\n",
    "    for j in kao:\n",
    "        if('鳳山市' in i):\n",
    "            areatmp='鳳山區'\n",
    "            placetmp=place            \n",
    "        if(j in i):\n",
    "            areatmp=j\n",
    "            placetmp=place\n",
    "    if(pd.isnull(areatmp)):print(i)\n",
    "    area.append(areatmp)\n",
    "    city.append(placetmp)\n",
    "food['area']=area\n",
    "food['city']=city"
   ]
  },
  {
   "cell_type": "code",
   "execution_count": null,
   "metadata": {},
   "outputs": [],
   "source": []
  },
  {
   "cell_type": "code",
   "execution_count": 240,
   "metadata": {},
   "outputs": [],
   "source": [
    "tablename='google'\n",
    "table={\n",
    "    'id':'int(11) not null auto_increment PRIMARY KEY',\n",
    "    'icon':'varchar(200)',\n",
    "    'lon':'DOUBLE not null',\n",
    "    'lat':'DOUBLE not null',\n",
    "    'name':'varchar(100)',\n",
    "    'placeid':  'varchar(100) not null  COMMENT \"goole查詢用\"' ,\n",
    "    'rating':'float',\n",
    "    'review':'float',\n",
    "    'price':'varchar(100)',\n",
    "    'url':'varchar(1024)',\n",
    "    'types':'varchar(1024)',\n",
    "    'phone':'varchar(100)',\n",
    "    'vicinity':'varchar(1024)',\n",
    "    'googletype':'varchar(100)',\n",
    "    'imageUrl': 'varchar(1024)',\n",
    "    'webUrl':'varchar(1024)',\n",
    "    'area':'varchar(100) ' ,\n",
    "    'city':'varchar(100) ' ,\n",
    "    'fbcount': 'int(11) COMMENT \"FB統計數量\"',\n",
    "    'tripcount': 'int(11) COMMENT \"trip統計數量\"',\n",
    "    'create_at':'datetime   NOT NULL DEFAULT CURRENT_TIMESTAMP COMMENT \"創建時間\"',\n",
    "    'modify_at':' datetime  NULL DEFAULT CURRENT_TIMESTAMP ON UPDATE CURRENT_TIMESTAMP COMMENT \"修改時間\"'\n",
    "    }\n",
    "othersql='UNIQUE (placeid)'"
   ]
  },
  {
   "cell_type": "code",
   "execution_count": 241,
   "metadata": {},
   "outputs": [
    {
     "data": {
      "text/plain": [
       "Index(['from', 'icon', 'id', 'lat', 'lon', 'name', 'placeid', 'price',\n",
       "       'rating', 'type', 'user_ratings_total', 'vicinity', 'url', 'googletype',\n",
       "       'imageUrl', 'opentime', 'phone', 'ray', 'review', 'webUrl', 'area',\n",
       "       'city'],\n",
       "      dtype='object')"
      ]
     },
     "execution_count": 241,
     "metadata": {},
     "output_type": "execute_result"
    }
   ],
   "source": [
    "food.columns"
   ]
  },
  {
   "cell_type": "code",
   "execution_count": 242,
   "metadata": {},
   "outputs": [
    {
     "name": "stdout",
     "output_type": "stream",
     "text": [
      "exsit   ChIJbb0s2GEEbjQRnOpa-q2Jtuk\n",
      "exsit   ChIJq68CgYoEbjQRL6rJnIKN4C0\n",
      "exsit   ChIJJ6gtdooEbjQRXfxOWT4w9do\n",
      "exsit   ChIJaeFid4oEbjQRo8j_4V-1Sfg\n",
      "exsit   ChIJB3zGeIoEbjQRZIuYvS4LaSk\n",
      "exsit   ChIJC2hUeIoEbjQRX0RGmTeOfmA\n",
      "exsit   ChIJ7QTIgIgEbjQR85KM8Pw-HWs\n",
      "exsit   ChIJ-WCmgIgEbjQR2K0M___RX4s\n",
      "exsit   ChIJPSQUUIgEbjQRxSHGqiQFhzE\n",
      "exsit   ChIJixmUXIgEbjQRgqltxmKPn7o\n",
      "exsit   ChIJmQAPQogEbjQRdVRkMWiCWBE\n",
      "exsit   ChIJE-JtUIgEbjQRyF-G6A6z2po\n",
      "exsit   ChIJ-0n3r4kEbjQRqpZlRR6Bip4\n",
      "exsit   ChIJJ1nDu4kEbjQRdiJd5II6wvo\n",
      "exsit   ChIJ0eqhvIkEbjQRYEk7xE_Dg9A\n",
      "exsit   ChIJ0eqhvIkEbjQRc2xOXJdi0tA\n",
      "exsit   ChIJdYqxvIkEbjQRjenEPKqzssg\n",
      "exsit   ChIJSzFnu4kEbjQRpx0ecoLQvak\n",
      "exsit   ChIJkYQBsIkEbjQRR-1r73H3h3c\n",
      "exsit   ChIJTU1fToEEbjQRYzT082Tv5xk\n",
      "exsit   ChIJJYgVR4EEbjQR69m5wZzsRXE\n",
      "exsit   ChIJwY-SVIEEbjQRsPa8U-mdHiY\n",
      "exsit   ChIJ-4J0T4EEbjQRtJZn7R2YBKs\n",
      "exsit   ChIJE5OQroYEbjQRyvTry4gD7CY\n",
      "exsit   ChIJN8Y3NoEEbjQRLNxiIR7a-tM\n",
      "exsit   ChIJdw9_T4EEbjQRHa43Z2O1vjA\n",
      "exsit   ChIJI6BX84YEbjQRVcf_D-3UbvQ\n",
      "exsit   ChIJidrewYYEbjQRKI62x_gVkZs\n",
      "exsit   ChIJrU0_k4YEbjQR5SB6LXOWRdA\n",
      "exsit   ChIJT1jZ84YEbjQRlBFjUNJJbl8\n",
      "exsit   ChIJr94zFYYEbjQRn1rQ8Mc2e_4\n",
      "exsit   ChIJRQ3umYgEbjQRSf6LRbvIn7g\n",
      "exsit   ChIJAU0nZ-IFbjQRnp6RZcj0OHo\n",
      "exsit   ChIJRQ3umYgEbjQRbUn3lSgKSFg\n",
      "exsit   ChIJRQ3umYgEbjQRCZcAXUpMSL0\n",
      "exsit   ChIJRQ3umYgEbjQRxSK81h_Jtc0\n",
      "exsit   ChIJRQ3umYgEbjQRuHFROxIHsME\n",
      "exsit   ChIJRQ3umYgEbjQRvQGN1UohEeg\n",
      "exsit   ChIJRQ3umYgEbjQR3XPcKl9nRTc\n",
      "exsit   ChIJRQ3umYgEbjQRlw6VS1Hvu0U\n",
      "exsit   ChIJRQ3umYgEbjQR-FGWph7wV0Y\n",
      "exsit   ChIJX5TqynsFbjQR0GE5YiOeD2Q\n",
      "exsit   ChIJRQ3umYgEbjQRlFgH111cZ8Y\n",
      "exsit   ChIJ17icBYYEbjQROBM35sbm3wA\n",
      "exsit   ChIJtT9Bg4ADbjQRArWZCwLJWhU\n",
      "exsit   ChIJD0RJ1oQEbjQRWNvTqmBUEz8\n",
      "exsit   ChIJva462JoEbjQR2YhaG9oT-vY\n",
      "exsit   ChIJTTai05oEbjQRj3lSgIFYr4E\n",
      "exsit   ChIJ1Xaa05oEbjQR4VyoL3VuyaM\n",
      "exsit   ChIJgYtG4pAEbjQRIl_ZLrHIF7c\n",
      "exsit   ChIJSR0Z45AEbjQRlqnipGarfjQ\n",
      "exsit   ChIJ94k-4pAEbjQRomjQiEm7qnI\n",
      "exsit   ChIJR9n6EpMEbjQRsWlUkz-XA1U\n",
      "exsit   ChIJayNic5QEbjQRJWUVKNnTj7A\n",
      "exsit   ChIJvQjHc5QEbjQRcf0MobnFVzE\n",
      "exsit   ChIJ1zzHuJQEbjQRDruOOGsa6wk\n",
      "exsit   ChIJ0ycex5QEbjQR17Pbu22hTQY\n",
      "exsit   ChIJPw-QFYgEbjQRhj9SiIKy2dQ\n",
      "exsit   ChIJx_onaWIEbjQRPOGyIeZnT9I\n",
      "exsit   ChIJcYVHMokEbjQRQ2fLB_ZjV90\n",
      "exsit   ChIJG3pLcGIEbjQRuZtR_iImNxw\n",
      "exsit   ChIJqQ947YkEbjQRXgRNI-ISr0g\n",
      "exsit   ChIJ1xijkokEbjQRnaDiereg2-U\n",
      "exsit   ChIJ84V57IkEbjQRmi8kNpeYxxc\n",
      "exsit   ChIJJYuB7okEbjQR3bmvOFaVFhc\n",
      "exsit   ChIJy4Ij_WEEbjQRRyi2rjKwJWk\n",
      "exsit   ChIJW3id8okEbjQRmcXbr62OEzY\n",
      "exsit   ChIJcX8Q84kEbjQR7bKlnEh0mk0\n",
      "exsit   ChIJ84V57IkEbjQRrP1vjEE9Gz0\n",
      "exsit   ChIJneBQ_2IEbjQRS8HbbCy9_Cc\n",
      "exsit   ChIJ_0hO7IkEbjQRfeIkQywDhAU\n",
      "exsit   ChIJlVjWIooEbjQRStoodSXP0tc\n",
      "exsit   ChIJJwb2JIsEbjQRy83kUsIZPgc\n",
      "exsit   ChIJc2C5JosEbjQR86LJL-L8Zto\n",
      "exsit   ChIJe02A0YgEbjQRV0vyBYT8VEY\n",
      "exsit   ChIJRT3np4wEbjQRPdIeQCZZPU4\n",
      "exsit   ChIJYQz3XoQEbjQRUc-Pp-LxthA\n",
      "exsit   ChIJkdWayYwEbjQRtkSIAjKAKeI\n",
      "exsit   ChIJG00_zowEbjQRXPodj_sioAQ\n",
      "exsit   ChIJpdxMyYwEbjQRzedL8OYJJp4\n",
      "exsit   ChIJYQ3dzYwEbjQR9yMXuMWjMPc\n",
      "exsit   ChIJXQ_IzWIEbjQRWq1ED9pVtb4\n",
      "exsit   ChIJt-BwxIQEbjQRf-m_zXHr0hk\n",
      "exsit   ChIJZU31wYQEbjQRlASjQJrDM5s\n",
      "exsit   ChIJefW9wYQEbjQRKYA4v6Bauz8\n",
      "exsit   ChIJefW9wYQEbjQRBbwj3q50yLc\n",
      "exsit   ChIJefW9wYQEbjQR4PXdRfdrGPY\n",
      "exsit   ChIJmXmz6oQEbjQRHovLYtwhuuo\n",
      "exsit   ChIJhazpC30DbjQR50J8tJ7H-aE\n",
      "exsit   ChIJ_0OJIZEEbjQRBemJHtErb1s\n",
      "exsit   ChIJ_bF5ApUEbjQRL0q3SqfHiDk\n",
      "exsit   ChIJM_1W4ZQEbjQRymvAK_k2CWQ\n",
      "exsit   ChIJoT8d_pQEbjQR8FxAF2Ax0ZY\n",
      "exsit   ChIJXa3k45QEbjQRIMxf3I9u9L8\n",
      "exsit   ChIJm8DM5pQEbjQRyfl0EpFp2Ug\n"
     ]
    }
   ],
   "source": [
    "conn_temp=get_connect()\n",
    "for st in range(len(food)):\n",
    "    if(st<=-1):\n",
    "        pass\n",
    "    else:\n",
    "        rating='NULL' if pd.isna(food['rating'][st])else food['rating'][st]\n",
    "        review='NULL' if pd.isna(food['user_ratings_total'][st])else food['user_ratings_total'][st]\n",
    "        name=str(food['name'][st]).replace('|','').replace('、','').replace(',','').replace(':','')\n",
    "        types=str(food['type'][st]).replace(',','_')\n",
    "        vicinity=str(food['vicinity'][st]).replace(',','')\n",
    "        data={\n",
    "            'icon':food['icon'][st],\n",
    "            'lon':food['lon'][st],\n",
    "            'lat':food['lat'][st],\n",
    "            'name':name,\n",
    "            'rating':rating,\n",
    "            'review':review,\n",
    "            'price':food['price'][st],\n",
    "            'url':food['url'][st],\n",
    "            'types':types,\n",
    "            'phone':food['phone'][st],\n",
    "            'vicinity':food['vicinity'][st],\n",
    "            'googletype':food['googletype'][st],\n",
    "            'imageUrl':food['imageUrl'][st],\n",
    "            'webUrl':food['webUrl'][st],\n",
    "            'placeid':food['placeid'][st],\n",
    "            'area':food['area'][st],\n",
    "            'city':food['city'][st]\n",
    "        }\n",
    "        insetDB('google',table,data,conn_temp)\n",
    "conn_temp.close()"
   ]
  },
  {
   "cell_type": "code",
   "execution_count": null,
   "metadata": {},
   "outputs": [],
   "source": []
  },
  {
   "cell_type": "code",
   "execution_count": null,
   "metadata": {},
   "outputs": [],
   "source": []
  },
  {
   "cell_type": "code",
   "execution_count": null,
   "metadata": {},
   "outputs": [],
   "source": []
  },
  {
   "cell_type": "code",
   "execution_count": null,
   "metadata": {},
   "outputs": [],
   "source": []
  },
  {
   "cell_type": "code",
   "execution_count": null,
   "metadata": {},
   "outputs": [],
   "source": []
  },
  {
   "cell_type": "code",
   "execution_count": 65,
   "metadata": {},
   "outputs": [],
   "source": [
    "bo=[ True if 'facebook' in  str(i) else False for i in food['webUrl']]"
   ]
  },
  {
   "cell_type": "code",
   "execution_count": 68,
   "metadata": {},
   "outputs": [],
   "source": [
    "food[bo].reset_index(drop=True).to_csv(namearea+'_FB.csv')"
   ]
  },
  {
   "cell_type": "code",
   "execution_count": null,
   "metadata": {},
   "outputs": [],
   "source": []
  }
 ],
 "metadata": {
  "kernelspec": {
   "display_name": "Python 3",
   "language": "python",
   "name": "python3"
  },
  "language_info": {
   "codemirror_mode": {
    "name": "ipython",
    "version": 3
   },
   "file_extension": ".py",
   "mimetype": "text/x-python",
   "name": "python",
   "nbconvert_exporter": "python",
   "pygments_lexer": "ipython3",
   "version": "3.7.3"
  }
 },
 "nbformat": 4,
 "nbformat_minor": 2
}
