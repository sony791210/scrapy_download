{
 "cells": [
  {
   "cell_type": "code",
   "execution_count": 174,
   "metadata": {},
   "outputs": [],
   "source": [
    "import numpy as np\n",
    "from difflib import *\n",
    "import os\n",
    "import pandas as pd"
   ]
  },
  {
   "cell_type": "code",
   "execution_count": 175,
   "metadata": {},
   "outputs": [],
   "source": [
    "\n",
    "import warnings\n",
    "warnings.simplefilter('ignore')\n",
    "# We will display plots right inside Jupyter Notebook\n",
    "%matplotlib inline\n",
    "import matplotlib.pyplot as plt\n",
    "plt.style.use('ggplot')\n",
    "import datetime\n",
    "\n",
    "import re\n",
    "import jieba\n",
    "import mysql.connector\n",
    "import matplotlib.font_manager as mfm"
   ]
  },
  {
   "cell_type": "code",
   "execution_count": 176,
   "metadata": {},
   "outputs": [],
   "source": [
    "def get_connect():\n",
    "    conn_temp = mysql.connector.connect(\n",
    "            host = '139.162.122.115',#本地地址\n",
    "            user = 'travel',#一般默认用户名\n",
    "            passwd = 'ksd53890045',#本地数据库登录密码（这里用你自己的密码！！！）\n",
    "            db = 'travelbigdata',#数据库名称（这里用你自己的数据库名称！！！）\n",
    "            port = 3306,#安装mysql默认的端口号\n",
    "            charset = 'utf8'#设置数据库统一编码  \n",
    "    )\n",
    "    return conn_temp"
   ]
  },
  {
   "cell_type": "code",
   "execution_count": 177,
   "metadata": {},
   "outputs": [],
   "source": [
    "tablename='fb'\n",
    "table={\n",
    "    'id':'int(11) not null auto_increment PRIMARY KEY',\n",
    "    'name':'varchar(100)',\n",
    "    'rating':'float',\n",
    "    'review':'float',\n",
    "    'price':'varchar(100)',\n",
    "    'url':'varchar(1024)',\n",
    "    'types':'varchar(1024)',\n",
    "    'checkin':'float',\n",
    "    'follow':'float',\n",
    "    'likes':'float',\n",
    "    'recommend':'float',\n",
    "    'phone':'varchar(100)',\n",
    "    'vicinity':'varchar(1024)',\n",
    "    'placeid':'varchar(100) ' ,\n",
    "    'googlepk':'int(11)',\n",
    "    'area':'varchar(100) ' ,\n",
    "    'city':'varchar(100) ' ,\n",
    "    'create_at':'datetime   NOT NULL DEFAULT CURRENT_TIMESTAMP COMMENT \"創建時間\"',\n",
    "    'modify_at':' datetime NOT  NULL DEFAULT CURRENT_TIMESTAMP ON UPDATE CURRENT_TIMESTAMP COMMENT \"修改時間\"'\n",
    "}\n",
    "othersql='UNIQUE (placeid)'\n"
   ]
  },
  {
   "cell_type": "code",
   "execution_count": 178,
   "metadata": {},
   "outputs": [],
   "source": [
    "def insetDB(tablename,table,data,conn_temp):\n",
    "    cursor = conn_temp.cursor()\n",
    "    sqltmpname=''\n",
    "    sqltmpvalue=''\n",
    "    for i in data:\n",
    "        sqltmpname+=str(i)+' '+','\n",
    "        if('char' in table[i]):\n",
    "            sqltmpvalue+='\"%s\",' %data[i]\n",
    "        else:\n",
    "            sqltmpvalue+='%s,' %data[i]\n",
    "    sqltmpname=sqltmpname[:-1]\n",
    "    sqltmpvalue=sqltmpvalue[:-1]\n",
    "    sqldata=[i for i in data]\n",
    "    sqlInsert='insert into  '+tablename+'('+sqltmpname+') VALUES ('+sqltmpvalue+')'        \n",
    "        \n",
    "    \n",
    "    sqlUpdate='UPDATE '+tablename+'  set rating=%s,review=%s where placeid= \"%s\" ' %\\\n",
    "        (data['rating'],data['review'],data['placeid'])\n",
    "    \n",
    "    \n",
    "    try:\n",
    "        cursor.execute(sqlInsert)\n",
    "        conn_temp.commit()\n",
    "    except:\n",
    "        print('exsit   '+str(data['placeid']))\n",
    "        cursor.execute(sqlUpdate)\n",
    "        conn_temp.commit()\n",
    "\n",
    "#    conn_temp.close()\n",
    "    return "
   ]
  },
  {
   "cell_type": "code",
   "execution_count": null,
   "metadata": {},
   "outputs": [],
   "source": []
  },
  {
   "cell_type": "code",
   "execution_count": null,
   "metadata": {},
   "outputs": [],
   "source": []
  },
  {
   "cell_type": "code",
   "execution_count": 179,
   "metadata": {},
   "outputs": [],
   "source": [
    "foodtypes=['餐廳', '餐館', '咖啡', '熟食', '冰品', '飲料', '餃子', '牛扒', '果汁', \n",
    "      '早餐', '酒吧',  '拉麵', '居酒屋', '酒店', '雪糕', '甜品', '麵店', '麵包', \n",
    "      '冷麵', '麵食店', '美式扒房',       '熟食店', '珍珠奶茶', '包點', '壽司', \n",
    "      '烏冬專門店', '菜館', '三文治店', '薄餅', '曲奇餅店',  '酒樓', '海味店', \n",
    "      '餡餅店', '快餐', '酒家', '飲料店', '茶館', '餅店', '健康食品專賣店','燒烤', \n",
    "      '小食店','餐車店','餐廳','茶藝']\n",
    "nottypes=['用品店','批發商']"
   ]
  },
  {
   "cell_type": "code",
   "execution_count": null,
   "metadata": {},
   "outputs": [],
   "source": []
  },
  {
   "cell_type": "code",
   "execution_count": null,
   "metadata": {},
   "outputs": [],
   "source": []
  },
  {
   "cell_type": "code",
   "execution_count": 148,
   "metadata": {},
   "outputs": [],
   "source": [
    "###########################################\n",
    "#\n",
    "#\n",
    "#\n",
    "#\n",
    "#\n",
    "#\n",
    "#\n",
    "#\n",
    "#########################################"
   ]
  },
  {
   "cell_type": "code",
   "execution_count": 180,
   "metadata": {},
   "outputs": [],
   "source": [
    "##讀取資料\n",
    "nameArea='Xinxing'\n",
    "dataFB=pd.read_csv('data/FB/'+nameArea+'FB.csv')"
   ]
  },
  {
   "cell_type": "code",
   "execution_count": 181,
   "metadata": {},
   "outputs": [],
   "source": [
    "## 讀取google 資料\n",
    "dataGoogle=pd.read_csv('data/googleMerage/'+nameArea+'.csv')"
   ]
  },
  {
   "cell_type": "code",
   "execution_count": null,
   "metadata": {},
   "outputs": [],
   "source": []
  },
  {
   "cell_type": "code",
   "execution_count": null,
   "metadata": {},
   "outputs": [],
   "source": []
  },
  {
   "cell_type": "code",
   "execution_count": 182,
   "metadata": {},
   "outputs": [],
   "source": [
    "### 定義一下高雄區域，利用地址分類資料  ######\n",
    "kao=['鼓山區','三民區','新興區','前金區','苓雅區','鹽埕區','前鎮區','旗津區','左營區','鳳山區','大寮區','大樹區','鳥松區','小港區','楠梓區','林園區','岡山區','仁武區','大社區','旗山區']\n",
    "place='高雄'"
   ]
  },
  {
   "cell_type": "code",
   "execution_count": 183,
   "metadata": {},
   "outputs": [],
   "source": [
    "area=[]\n",
    "city=[]\n",
    "for st,i in enumerate(dataFB['addr']):\n",
    "    areatmp=None\n",
    "    placetmp=None\n",
    "    for j in kao:\n",
    "        if(str(j) in str(i)):\n",
    "            areatmp=j\n",
    "            placetmp=place\n",
    "    area.append(areatmp)\n",
    "    city.append(placetmp)\n",
    "dataFB['area']=area\n",
    "dataFB['city']=city"
   ]
  },
  {
   "cell_type": "code",
   "execution_count": null,
   "metadata": {},
   "outputs": [],
   "source": []
  },
  {
   "cell_type": "code",
   "execution_count": null,
   "metadata": {},
   "outputs": [],
   "source": []
  },
  {
   "cell_type": "code",
   "execution_count": null,
   "metadata": {},
   "outputs": [],
   "source": []
  },
  {
   "cell_type": "code",
   "execution_count": null,
   "metadata": {},
   "outputs": [],
   "source": []
  },
  {
   "cell_type": "code",
   "execution_count": null,
   "metadata": {},
   "outputs": [],
   "source": []
  },
  {
   "cell_type": "code",
   "execution_count": null,
   "metadata": {},
   "outputs": [],
   "source": []
  },
  {
   "cell_type": "code",
   "execution_count": 184,
   "metadata": {},
   "outputs": [],
   "source": [
    "### 將FB的明子+上FB\n",
    "name=[]\n",
    "for i in dataFB.head().columns:\n",
    "    name.append('FB'+i)\n",
    "dataFB.columns=name"
   ]
  },
  {
   "cell_type": "code",
   "execution_count": null,
   "metadata": {},
   "outputs": [],
   "source": []
  },
  {
   "cell_type": "code",
   "execution_count": 185,
   "metadata": {},
   "outputs": [],
   "source": [
    "#### 判斷google 資料快速整理一下\n",
    "def checkFood(onetype,types):\n",
    "    boFood=False\n",
    "    for t in types:\n",
    "        if(t in onetype):\n",
    "            boFood=True\n",
    "            break\n",
    "    return boFood\n",
    "\n",
    "def checkNotFood(onetype,types):\n",
    "    boFood=True\n",
    "    for t in types:\n",
    "        if(t in onetype):\n",
    "            boFood=False\n",
    "            break\n",
    "    return boFood    \n",
    "boCheck=[]\n",
    "for i,j in zip(dataGoogle['googletype'],dataGoogle['type']):\n",
    "    boTmp=False\n",
    "    if( checkFood(str(i),foodtypes) and  checkNotFood(str(i),nottypes) ):\n",
    "        boTmp=True\n",
    "    if('food' in str(j)):\n",
    "        boTmp=True\n",
    "    boCheck.append(boTmp)"
   ]
  },
  {
   "cell_type": "code",
   "execution_count": null,
   "metadata": {},
   "outputs": [],
   "source": []
  },
  {
   "cell_type": "code",
   "execution_count": 186,
   "metadata": {},
   "outputs": [],
   "source": [
    "### 合併 google及 FB資料\n",
    "datafood=dataGoogle[boCheck].reset_index(drop=True)\n",
    "dataGoogleFB=pd.merge(datafood,dataFB,left_on='webUrl',right_on='FBwebUrl',how='right').reset_index(drop=True)"
   ]
  },
  {
   "cell_type": "code",
   "execution_count": null,
   "metadata": {},
   "outputs": [],
   "source": []
  },
  {
   "cell_type": "code",
   "execution_count": 187,
   "metadata": {},
   "outputs": [
    {
     "data": {
      "text/plain": [
       "Index(['Unnamed: 0', 'from', 'icon', 'id', 'lat', 'lon', 'name', 'placeid',\n",
       "       'price', 'rating_x', 'type', 'user_ratings_total', 'vicinity', 'cidUrl',\n",
       "       'googletype', 'imageUrl', 'opentime', 'phone', 'rating_y', 'review',\n",
       "       'webUrl', 'FBFBname', 'FBFBtypes', 'FBaddr', 'FBcheck', 'FBfollow',\n",
       "       'FBlikes', 'FBphone', 'FBprice', 'FBrating', 'FBrecommend', 'FBreviwe',\n",
       "       'FBwebUrl', 'FBarea', 'FBcity'],\n",
       "      dtype='object')"
      ]
     },
     "execution_count": 187,
     "metadata": {},
     "output_type": "execute_result"
    }
   ],
   "source": [
    "dataGoogleFB.columns"
   ]
  },
  {
   "cell_type": "code",
   "execution_count": 188,
   "metadata": {},
   "outputs": [
    {
     "name": "stdout",
     "output_type": "stream",
     "text": [
      "exsit   ChIJPSQUUIgEbjQRxSHGqiQFhzE\n",
      "exsit   ChIJ-0n3r4kEbjQRqpZlRR6Bip4\n",
      "exsit   ChIJSzFnu4kEbjQRpx0ecoLQvak\n",
      "exsit   ChIJkYQBsIkEbjQRR-1r73H3h3c\n",
      "exsit   ChIJrU0_k4YEbjQR5SB6LXOWRdA\n",
      "exsit   ChIJT1jZ84YEbjQRlBFjUNJJbl8\n",
      "exsit   ChIJr94zFYYEbjQRn1rQ8Mc2e_4\n",
      "exsit   ChIJc8rZto0EbjQR7T6vQgqWVtE\n",
      "exsit   ChIJc8rZto0EbjQRvms5rD5ArJE\n",
      "exsit   ChIJ84V57IkEbjQRmi8kNpeYxxc\n",
      "exsit   ChIJXQ_IzWIEbjQRWq1ED9pVtb4\n"
     ]
    }
   ],
   "source": [
    "conn_temp=get_connect()\n",
    "for st in range(len(dataGoogleFB)):\n",
    "    if(st<=-1):\n",
    "        pass\n",
    "    else:\n",
    "        rating='NULL' if pd.isna(dataGoogleFB['FBrating'][st])else str(dataGoogleFB['FBrating'][st]).replace(',','')\n",
    "        review='NULL' if pd.isna(dataGoogleFB['FBreviwe'][st])else str(dataGoogleFB['FBreviwe'][st]).replace(',','')\n",
    "        checkin='NULL' if pd.isna(dataGoogleFB['FBcheck'][st])else str(dataGoogleFB['FBcheck'][st]).replace(',','')\n",
    "        follow='NULL' if pd.isna(dataGoogleFB['FBfollow'][st])else str(dataGoogleFB['FBfollow'][st]).replace(',','')\n",
    "        likes='NULL' if pd.isna(dataGoogleFB['FBlikes'][st])else   str(dataGoogleFB['FBlikes'][st]).replace(',','')\n",
    "        recommend='NULL' if pd.isna(dataGoogleFB['FBrecommend'][st]) else   str(dataGoogleFB['FBrecommend'][st]).replace(',','')\n",
    "        name=str(dataGoogleFB['FBFBname'][st]).replace(',','').replace('餐廳評論','').replace('Facebook','').replace('菜單','').replace('價格','').replace('|','').replace('、','')\n",
    "        types=str(dataGoogleFB['FBFBtypes'][st]).replace(',','_')\n",
    "        data={\n",
    "            'name':name,\n",
    "            'rating':rating,\n",
    "            'review':review,\n",
    "            'price':dataGoogleFB['FBprice'][st],\n",
    "            'url':dataGoogleFB['FBwebUrl'][st],\n",
    "            'types':types,\n",
    "            'checkin':checkin,\n",
    "            'follow':follow,\n",
    "            'likes':likes,\n",
    "            'recommend':recommend,\n",
    "            'phone':dataGoogleFB['FBphone'][st],\n",
    "            'vicinity':dataGoogleFB['FBaddr'][st],\n",
    "            'placeid':dataGoogleFB['placeid'][st],\n",
    "            'googlepk':'NULL',\n",
    "            'area':dataGoogleFB['FBarea'][st],\n",
    "            'city':dataGoogleFB['FBcity'][st]\n",
    "        }\n",
    "        insetDB('fb',table,data,conn_temp)\n",
    "conn_temp.close()"
   ]
  },
  {
   "cell_type": "code",
   "execution_count": null,
   "metadata": {},
   "outputs": [],
   "source": []
  },
  {
   "cell_type": "code",
   "execution_count": null,
   "metadata": {},
   "outputs": [],
   "source": []
  },
  {
   "cell_type": "code",
   "execution_count": null,
   "metadata": {},
   "outputs": [],
   "source": []
  },
  {
   "cell_type": "code",
   "execution_count": null,
   "metadata": {},
   "outputs": [],
   "source": []
  },
  {
   "cell_type": "code",
   "execution_count": null,
   "metadata": {},
   "outputs": [],
   "source": []
  },
  {
   "cell_type": "code",
   "execution_count": null,
   "metadata": {},
   "outputs": [],
   "source": []
  },
  {
   "cell_type": "code",
   "execution_count": null,
   "metadata": {},
   "outputs": [],
   "source": []
  }
 ],
 "metadata": {
  "kernelspec": {
   "display_name": "Python 3",
   "language": "python",
   "name": "python3"
  },
  "language_info": {
   "codemirror_mode": {
    "name": "ipython",
    "version": 3
   },
   "file_extension": ".py",
   "mimetype": "text/x-python",
   "name": "python",
   "nbconvert_exporter": "python",
   "pygments_lexer": "ipython3",
   "version": "3.7.3"
  }
 },
 "nbformat": 4,
 "nbformat_minor": 2
}
