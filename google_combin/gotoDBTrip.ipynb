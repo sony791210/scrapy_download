{
 "cells": [
  {
   "cell_type": "code",
   "execution_count": 190,
   "metadata": {},
   "outputs": [],
   "source": [
    "import numpy as np\n",
    "from difflib import *\n",
    "import os\n",
    "import pandas as pd"
   ]
  },
  {
   "cell_type": "code",
   "execution_count": 191,
   "metadata": {},
   "outputs": [],
   "source": [
    "\n",
    "import warnings\n",
    "warnings.simplefilter('ignore')\n",
    "# We will display plots right inside Jupyter Notebook\n",
    "%matplotlib inline\n",
    "import matplotlib.pyplot as plt\n",
    "plt.style.use('ggplot')\n",
    "import datetime\n",
    "\n",
    "import re\n",
    "import jieba\n",
    "import mysql.connector\n",
    "import matplotlib.font_manager as mfm"
   ]
  },
  {
   "cell_type": "code",
   "execution_count": 192,
   "metadata": {},
   "outputs": [],
   "source": [
    "def get_connect():\n",
    "    conn_temp = mysql.connector.connect(\n",
    "            host = '139.162.122.115',#本地地址\n",
    "            user = 'travel',#一般默认用户名\n",
    "            passwd = 'ksd53890045',#本地数据库登录密码（这里用你自己的密码！！！）\n",
    "            db = 'travelbigdata',#数据库名称（这里用你自己的数据库名称！！！）\n",
    "            port = 3306,#安装mysql默认的端口号\n",
    "            charset = 'utf8'#设置数据库统一编码  \n",
    "    )\n",
    "    return conn_temp"
   ]
  },
  {
   "cell_type": "code",
   "execution_count": 193,
   "metadata": {},
   "outputs": [],
   "source": [
    "tablename='trip'\n",
    "table={\n",
    "    'id':'int(11) not null auto_increment PRIMARY KEY',\n",
    "    'name':'varchar(100)',\n",
    "    'img':'varchar(100)',\n",
    "    'lat':'float',\n",
    "    'lon':'float',\n",
    "    'rating':'float',\n",
    "    'review':'float',\n",
    "    'price':'varchar(100)',\n",
    "    'url':'varchar(1024)',\n",
    "    'types':'varchar(1024)',\n",
    "    'vicinity':'varchar(1024)',\n",
    "    'web':'varchar(1024) ' ,\n",
    "    'orderdetail':'varchar(1024) ' ,\n",
    "    'other':'varchar(1024) ' ,\n",
    "    'servies':'varchar(1024) ' ,\n",
    "    'phone':'varchar(20) ' ,\n",
    "    'googlepk':'int(11)',\n",
    "    'area':'varchar(100) ' ,\n",
    "    'city':'varchar(100) ' ,\n",
    "    'create_at':'datetime   NOT NULL DEFAULT CURRENT_TIMESTAMP COMMENT \"創建時間\"',\n",
    "    'modify_at':' datetime NOT  NULL DEFAULT CURRENT_TIMESTAMP ON UPDATE CURRENT_TIMESTAMP COMMENT \"修改時間\"'\n",
    "}\n",
    "othersql='UNIQUE (url)'\n",
    "\n",
    "\n"
   ]
  },
  {
   "cell_type": "code",
   "execution_count": 194,
   "metadata": {},
   "outputs": [],
   "source": [
    "def insetDB(tablename,table,data,conn_temp):\n",
    "    cursor = conn_temp.cursor()\n",
    "    sqltmpname=''\n",
    "    sqltmpvalue=''\n",
    "    for i in data:\n",
    "        sqltmpname+=str(i)+' '+','\n",
    "        if('char' in table[i]):\n",
    "            sqltmpvalue+='\"%s\",' %data[i]\n",
    "        else:\n",
    "            sqltmpvalue+='%s,' %data[i]\n",
    "    sqltmpname=sqltmpname[:-1]\n",
    "    sqltmpvalue=sqltmpvalue[:-1]\n",
    "    sqldata=[i for i in data]\n",
    "    sqlInsert='insert into  '+tablename+'('+sqltmpname+') VALUES ('+sqltmpvalue+')'        \n",
    "        \n",
    "    \n",
    "    sqlUpdate='UPDATE '+tablename+'  set rating=%s,review=%s where url= \"%s\" ' %\\\n",
    "        (data['rating'],data['review'],data['url'])\n",
    "    \n",
    "    \n",
    "    try:\n",
    "        cursor.execute(sqlInsert)\n",
    "        conn_temp.commit()\n",
    "    except:\n",
    "        print('exsit   '+str(data['url']))\n",
    "        cursor.execute(sqlUpdate)\n",
    "        conn_temp.commit()\n",
    "\n",
    "    return "
   ]
  },
  {
   "cell_type": "code",
   "execution_count": null,
   "metadata": {},
   "outputs": [],
   "source": []
  },
  {
   "cell_type": "code",
   "execution_count": null,
   "metadata": {},
   "outputs": [],
   "source": []
  },
  {
   "cell_type": "code",
   "execution_count": 195,
   "metadata": {},
   "outputs": [],
   "source": [
    "foodtypes=['餐廳', '餐館', '咖啡', '熟食', '冰品', '飲料', '餃子', '牛扒', '果汁', \n",
    "      '早餐', '酒吧',  '拉麵', '居酒屋', '酒店', '雪糕', '甜品', '麵店', '麵包', \n",
    "      '冷麵', '麵食店', '美式扒房',       '熟食店', '珍珠奶茶', '包點', '壽司', \n",
    "      '烏冬專門店', '菜館', '三文治店', '薄餅', '曲奇餅店',  '酒樓', '海味店', \n",
    "      '餡餅店', '快餐', '酒家', '飲料店', '茶館', '餅店', '健康食品專賣店','燒烤', \n",
    "      '小食店','餐車店','餐廳','茶藝']\n",
    "nottypes=['用品店','批發商']"
   ]
  },
  {
   "cell_type": "code",
   "execution_count": null,
   "metadata": {},
   "outputs": [],
   "source": []
  },
  {
   "cell_type": "code",
   "execution_count": null,
   "metadata": {},
   "outputs": [],
   "source": []
  },
  {
   "cell_type": "code",
   "execution_count": 183,
   "metadata": {},
   "outputs": [],
   "source": [
    "##################################\n",
    "#\n",
    "#\n",
    "#\n",
    "#\n",
    "#\n",
    "#\n",
    "#\n",
    "#\n",
    "#\n",
    "#\n",
    "#\n",
    "#\n",
    "#\n",
    "#\n",
    "##################################"
   ]
  },
  {
   "cell_type": "code",
   "execution_count": 196,
   "metadata": {},
   "outputs": [],
   "source": [
    "nameArea='Xinxing'"
   ]
  },
  {
   "cell_type": "code",
   "execution_count": 197,
   "metadata": {},
   "outputs": [],
   "source": [
    "dataTrip=pd.read_csv('data/Trip/'+nameArea+'.csv')\n",
    "dataTrip=dataTrip.drop_duplicates().reset_index(drop=True)"
   ]
  },
  {
   "cell_type": "code",
   "execution_count": null,
   "metadata": {},
   "outputs": [],
   "source": []
  },
  {
   "cell_type": "code",
   "execution_count": null,
   "metadata": {},
   "outputs": [],
   "source": []
  },
  {
   "cell_type": "code",
   "execution_count": 198,
   "metadata": {},
   "outputs": [],
   "source": [
    "### 定義一下高雄區域，利用地址分類資料  ######\n",
    "kao=['鼓山區','三民區','新興區','前金區','苓雅區','鹽埕區','前鎮區','旗津區','左營區','鳳山區','大寮區','大樹區','鳥松區','小港區','楠梓區','林園區','岡山區','仁武區','大社區','旗山區']\n",
    "place='高雄'"
   ]
  },
  {
   "cell_type": "code",
   "execution_count": 199,
   "metadata": {},
   "outputs": [
    {
     "name": "stdout",
     "output_type": "stream",
     "text": [
      "成功一路76號\n",
      "七賢一路311號 福華飯店六樓\n",
      "林森一路272-1號\n",
      "五福一路105號3樓\n",
      "中山橫路1號\n",
      "中正三路122號\n",
      "六合一路148號 1樓\n",
      "新田路168號\n",
      "仁愛一街102號\n",
      "林森一路176號\n",
      "No.165 Linsen 1st Road\n",
      "青年一路176巷12號\n",
      "民享街97號\n",
      "七賢二路92號\n",
      "中山一路300號\n",
      "中正三路73號\n",
      "No. 90 Qixian 2nd Rd, Xinxing District, Kaohsiung City, Taiwan 800\n",
      "新田路4號\n",
      "自立二路158號\n",
      "林森一路31號\n",
      "六合二路\n",
      "六合一路161號\n",
      "玉竹一街17巷27號\n",
      "文橫2路127巷13號\n",
      "中山一路6之18號 高雄新崛江店\n",
      "文化路18號\n",
      "林森一路10號\n",
      "尚義街129號\n",
      "自立二路118號\n",
      "五福二路26號\n",
      "尚義街140號\n",
      "民享街105號\n",
      "五福二路262號 2樓\n",
      "五福一路146號\n",
      "新田路7號\n",
      "民生一路54號\n"
     ]
    }
   ],
   "source": [
    "area=[]\n",
    "city=[]\n",
    "for st,i in enumerate(dataTrip['vicinity']):\n",
    "    areatmp=None\n",
    "    placetmp=None\n",
    "    for j in kao:\n",
    "        if(str(j) in str(i)):\n",
    "            areatmp=j\n",
    "            placetmp=place\n",
    "    if(pd.isnull(areatmp)):print(i)\n",
    "    area.append(areatmp)\n",
    "    city.append(placetmp)\n",
    "dataTrip['area']=area\n",
    "dataTrip['city']=city"
   ]
  },
  {
   "cell_type": "code",
   "execution_count": null,
   "metadata": {},
   "outputs": [],
   "source": []
  },
  {
   "cell_type": "code",
   "execution_count": null,
   "metadata": {},
   "outputs": [],
   "source": []
  },
  {
   "cell_type": "code",
   "execution_count": 200,
   "metadata": {},
   "outputs": [
    {
     "data": {
      "text/plain": [
       "Index(['img', 'lat', 'lon', 'name', 'order', 'other', 'phone', 'place',\n",
       "       'price', 'rating', 'review', 'servies', 'types', 'url', 'vicinity',\n",
       "       'web', 'where', 'area', 'city'],\n",
       "      dtype='object')"
      ]
     },
     "execution_count": 200,
     "metadata": {},
     "output_type": "execute_result"
    }
   ],
   "source": [
    "dataTrip.columns"
   ]
  },
  {
   "cell_type": "code",
   "execution_count": 201,
   "metadata": {},
   "outputs": [
    {
     "name": "stdout",
     "output_type": "stream",
     "text": [
      "exsit   https://www.tripadvisor.com.tw/Restaurant_Review-g13806674-d11810794-Reviews-Miche_House_Japanese_food_Restaurant-Lingya_Kaohsiung.html\n",
      "exsit   https://www.tripadvisor.com.tw/Restaurant_Review-g13808513-d6952141-Reviews-Boston-Xinxing_Kaohsiung.html\n"
     ]
    }
   ],
   "source": [
    "conn_temp=get_connect()\n",
    "for st in range(len(dataTrip)):\n",
    "    if(st<=-1):\n",
    "        pass\n",
    "    else:\n",
    "        rating='NULL' if pd.isna(dataTrip['rating'][st])else dataTrip['rating'][st]\n",
    "        review='NULL' if pd.isna(dataTrip['review'][st])else dataTrip['review'][st]\n",
    "        name=str(dataTrip['name'][st]).replace(',','').replace('|','').replace('、','')\n",
    "        types=str(dataTrip['types'][st]).replace(',','_')\n",
    "        price='NULL' if pd.isna(dataTrip['price'][st])else dataTrip['price'][st].replace(',','')\n",
    "        phone=str(dataTrip['phone'][st]).replace(' ','')\n",
    "        servies=str(dataTrip['servies'][st]).replace(',','')\n",
    "        orderdetail=str(dataTrip['order'][st]).replace(',','')\n",
    "        other=str(dataTrip['other'][st]).replace(',','')\n",
    "        data={\n",
    "            'name':name,\n",
    "            'img':dataTrip['img'][st],\n",
    "            'lat':dataTrip['lat'][st],\n",
    "            'lon':dataTrip['lon'][st],\n",
    "            'rating':rating,\n",
    "            'review':review,\n",
    "            'price':price,\n",
    "            'url':dataTrip['url'][st],\n",
    "            'types':types,\n",
    "            'web':dataTrip['web'][st],\n",
    "            'phone':phone,\n",
    "            'vicinity':dataTrip['vicinity'][st],\n",
    "            'googlepk':'NULL',\n",
    "            'servies':servies,\n",
    "            'orderdetail':orderdetail,\n",
    "            'other':other,\n",
    "            'area':dataTrip['area'][st],\n",
    "            'city':dataTrip['city'][st]\n",
    "        }\n",
    "        insetDB('trip',table,data,conn_temp)\n",
    "conn_temp.close()"
   ]
  },
  {
   "cell_type": "code",
   "execution_count": null,
   "metadata": {},
   "outputs": [],
   "source": []
  },
  {
   "cell_type": "code",
   "execution_count": null,
   "metadata": {},
   "outputs": [],
   "source": []
  },
  {
   "cell_type": "code",
   "execution_count": null,
   "metadata": {},
   "outputs": [],
   "source": []
  },
  {
   "cell_type": "code",
   "execution_count": 31,
   "metadata": {},
   "outputs": [],
   "source": [
    "conn_temp.close()"
   ]
  },
  {
   "cell_type": "code",
   "execution_count": null,
   "metadata": {},
   "outputs": [],
   "source": []
  },
  {
   "cell_type": "code",
   "execution_count": null,
   "metadata": {},
   "outputs": [],
   "source": []
  },
  {
   "cell_type": "code",
   "execution_count": null,
   "metadata": {},
   "outputs": [],
   "source": []
  },
  {
   "cell_type": "code",
   "execution_count": null,
   "metadata": {},
   "outputs": [],
   "source": []
  },
  {
   "cell_type": "code",
   "execution_count": null,
   "metadata": {},
   "outputs": [],
   "source": []
  },
  {
   "cell_type": "code",
   "execution_count": null,
   "metadata": {},
   "outputs": [],
   "source": []
  }
 ],
 "metadata": {
  "kernelspec": {
   "display_name": "Python 3",
   "language": "python",
   "name": "python3"
  },
  "language_info": {
   "codemirror_mode": {
    "name": "ipython",
    "version": 3
   },
   "file_extension": ".py",
   "mimetype": "text/x-python",
   "name": "python",
   "nbconvert_exporter": "python",
   "pygments_lexer": "ipython3",
   "version": "3.7.3"
  }
 },
 "nbformat": 4,
 "nbformat_minor": 2
}
