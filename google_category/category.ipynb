{
 "cells": [
  {
   "cell_type": "code",
   "execution_count": 2,
   "metadata": {},
   "outputs": [],
   "source": [
    "import pandas as pd\n",
    "import numpy as np\n",
    "import json\n",
    "from shapely.geometry import Point\n",
    "from shapely.geometry.polygon import Polygon\n",
    "from osgeo import ogr\n",
    "import numpy as np\n",
    "import pandas as pd\n",
    "import warnings\n",
    "warnings.simplefilter('ignore')\n",
    "import datetime\n",
    "import re\n",
    "import jieba\n",
    "import time\n",
    "import googlemaps"
   ]
  },
  {
   "cell_type": "code",
   "execution_count": null,
   "metadata": {},
   "outputs": [],
   "source": []
  },
  {
   "cell_type": "code",
   "execution_count": 3,
   "metadata": {},
   "outputs": [],
   "source": [
    "data_first=pd.read_csv('taidong_all_first.csv')\n",
    "data_sec=pd.read_csv('taidong_all.csv')\n",
    "data=pd.merge(data_first,data_sec,on='placeid')"
   ]
  },
  {
   "cell_type": "code",
   "execution_count": 5,
   "metadata": {},
   "outputs": [],
   "source": [
    "#### define all types in google data ,remove thoat not in this types\n",
    "foodtypes=['餐廳', '餐館', '咖啡', '熟食', '冰品', '飲料', '餃子', '牛扒', '果汁', \n",
    "      '早餐', '酒吧',  '拉麵', '居酒屋', '酒店', '雪糕', '甜品', '麵店', '麵包', \n",
    "      '冷麵', '麵食店', '美式扒房','熟食店', '珍珠奶茶', '包點', '壽司', \n",
    "      '烏冬專門店', '菜館', '三文治店', '薄餅', '曲奇餅店',  '酒樓', '海味店', \n",
    "      '餡餅店', '快餐', '酒家', '飲料店', '茶館', '餅店', '健康食品專賣店','燒烤', \n",
    "      '小食店','餐車店','餐廳','茶藝','麵館','冬甩','美食廣場','烤雞','速食','班戟',\n",
    "      '擔擔麵']\n",
    "storetypes=['便利店','市場']\n",
    "nottypes=['用品店','批發商','農業用品店','供應商','溫室','住宿','肉販','批發','農產品','工作空間','書店']"
   ]
  },
  {
   "cell_type": "code",
   "execution_count": null,
   "metadata": {},
   "outputs": [],
   "source": []
  },
  {
   "cell_type": "code",
   "execution_count": 6,
   "metadata": {},
   "outputs": [],
   "source": [
    "###   檢查是否存在上述的foodtypes， 如果存在於nottypes 將會去除  避免ㄧ些怪怪的\n",
    "def checkFood(onetype,types):\n",
    "    boFood=False\n",
    "    for t in types:\n",
    "        if(t in onetype):\n",
    "            boFood=True\n",
    "            break\n",
    "    return boFood\n",
    "def checkNotFood(onetype,types):\n",
    "    boFood=False\n",
    "    for t in types:\n",
    "        if(t in onetype):\n",
    "            boFood=True\n",
    "            break\n",
    "    return boFood    "
   ]
  },
  {
   "cell_type": "code",
   "execution_count": 7,
   "metadata": {},
   "outputs": [],
   "source": [
    "##### 滿足 googletype  為上述的成分\n",
    "#### 滿足 types 裡面有 food 的因子\n",
    "\n",
    "boCheck=[]\n",
    "for i,j in zip(data['googletype'],data['type']):\n",
    "    boTmp=False\n",
    "    if('food' in str(j)):\n",
    "        boTmp=True\n",
    "    if( checkFood(str(i),foodtypes) ):\n",
    "        boTmp=True\n",
    "    if(checkNotFood(str(i),nottypes))\n",
    "        boTmp=False\n",
    "    boCheck.append(boTmp)"
   ]
  },
  {
   "cell_type": "code",
   "execution_count": 8,
   "metadata": {},
   "outputs": [],
   "source": [
    "#### 取出  food 的內容\n",
    "food=data[boCheck].reset_index(drop=True)"
   ]
  },
  {
   "cell_type": "code",
   "execution_count": null,
   "metadata": {},
   "outputs": [],
   "source": []
  },
  {
   "cell_type": "code",
   "execution_count": null,
   "metadata": {},
   "outputs": [],
   "source": []
  },
  {
   "cell_type": "code",
   "execution_count": null,
   "metadata": {},
   "outputs": [],
   "source": []
  },
  {
   "cell_type": "code",
   "execution_count": 31,
   "metadata": {},
   "outputs": [],
   "source": [
    "## 針對名稱分類\n",
    "localEat_Name=['黑輪','雞排','蔥油餅','蚵仔煎','鹽酥雞','路邊燒烤','QQ','香腸','大腸','肉羹','滷味','蚵嗲','臭豆腐','碗粿','肉圓','麵線',\n",
    "          '地瓜','蝦餅','蝦蛋','紅豆餅','肉粽','烤小卷','烤魷魚','脆薯','米糕','豬血湯','蝦仁煎','雞蛋糕','鳥蛋','烤玉米','薯條','炸魷魚',\n",
    "         '小籠包','蕃薯','烤包子','魚羹','沙威瑪','蔥抓餅','肉焿','鹹酥雞','夯魷魚','碳烤珍珠玉米','烤肉攤','白糖粿','蕃茄切盤','魚翅羹',\n",
    "         '烤肉攤','香腸攤','關東煮','甜甜圈','蘿蔔糕','鹽水雞','雞排','地瓜','蔥油餅','烤飛魚','G排','燒飛魚','炸飛魚','蔥餅','炸物','炸雞',\n",
    "         '鹹水雞','烤山豬肉','桶仔雞','碳烤','刈包','水煎包','鹹湯圓','麵攤','香酥雞','煎包']\n",
    "iceTea_Name=['ICE','ice','Ice','汽水','冷飲','咖啡','冰飲']\n",
    "dissert_Name=['豆花','泡芙']\n",
    "otherZone_Name=['印尼','壽司','定食','越南','義大利','披薩','拉麵','義式']\n",
    "hotFire_Name=['海產','熱炒','薑母鴨','岡山羊肉','海炒','海产','驛站','水產','台菜','快炒','現炒','小吃','羊肉爐']\n",
    "chinese_Name=['河粉','米粉','水餃','飯','自助餐','肉燥','小吃','饅頭','餃','湯包','烤鴨','鵝肉','便當','麺','麵店','肉麵','涼麵','米苔目','意麵','肉包',\n",
    "             '鱔魚麵','炒麵']\n",
    "breakfast_Name=['早餐','起司堡','漢堡','早安','美而美','飯糰','早午餐','麥味登','吐司堡']\n",
    "hotPot_Name=['火鍋']\n",
    "bar_Name=['酒吧','酒店','酒館','餐酒館','Bar','bar']\n",
    "vegetarian_Name=['素食','純素']\n",
    "fire_Name=['燒烤','BBQ']"
   ]
  },
  {
   "cell_type": "code",
   "execution_count": null,
   "metadata": {},
   "outputs": [],
   "source": []
  },
  {
   "cell_type": "code",
   "execution_count": 32,
   "metadata": {},
   "outputs": [],
   "source": [
    "#google type\n",
    "## 針對類別分類\n",
    "#hotFife_type=['海鮮']\n",
    "#other_type=['市場','便利店','酒店']\n",
    "breakfast_Name=['早午餐','早餐']\n",
    "hotFire_type=['海鮮餐廳']\n",
    "fire_type=['燒烤']\n",
    "tea_type=['飲料','雪糕店','咖啡','果汁','茶店']\n",
    "dissert_type=['糕餅','麵包','西餅','甜品','冬甩']\n",
    "hotPot_type=['火鍋']\n",
    "bar_type=['酒吧','酒廠']\n",
    "otherZone_type=['迴轉壽司','美式','日式','越南','印尼','泰國','意大利','日本','港式','墨西哥','韓國','拉麵']\n",
    "chinese_type=['中餐','餃子','中菜','台灣','中式','粥餐','擔擔麵']\n",
    "\n",
    "vegetarian_type=['素食','純素']\n"
   ]
  },
  {
   "cell_type": "code",
   "execution_count": null,
   "metadata": {},
   "outputs": [],
   "source": []
  },
  {
   "cell_type": "code",
   "execution_count": 33,
   "metadata": {},
   "outputs": [
    {
     "data": {
      "text/plain": [
       "'a,b,c'"
      ]
     },
     "execution_count": 33,
     "metadata": {},
     "output_type": "execute_result"
    }
   ],
   "source": [
    "','.join(['a','b','c'])"
   ]
  },
  {
   "cell_type": "code",
   "execution_count": 47,
   "metadata": {},
   "outputs": [],
   "source": [
    "def type_in(array,name):\n",
    "    for k in array:\n",
    "        if(k in name):\n",
    "            return True\n",
    "    return False"
   ]
  },
  {
   "cell_type": "code",
   "execution_count": 59,
   "metadata": {},
   "outputs": [],
   "source": [
    "shop_type_array=[]\n",
    "for st,(i,j) in enumerate(zip(food['googletype'],food['name'])):\n",
    "    #check data\n",
    "    if(pd.isna(i)):\n",
    "        i=''\n",
    "    if(pd.isna(j)):\n",
    "        j=''\n",
    "    has_type=[]\n",
    "    if(type_in(breakfast_Name,j)):\n",
    "        has_type.append('早餐類')      \n",
    "    if(type_in(hotPot_Name,j)):\n",
    "        has_type.append('火鍋類') \n",
    "    if(type_in(bar_Name,j) or type_in(bar_type,i)):\n",
    "        has_type.append('酒吧類')  \n",
    "    if(type_in(iceTea_Name,j) or type_in(tea_type,i)):\n",
    "        has_type.append('飲料類')    \n",
    "    if(type_in(localEat_Name,j)):\n",
    "        has_type.append('台灣小吃類')\n",
    "    if(type_in(chinese_Name,j) or type_in(chinese_type,i)):\n",
    "        has_type.append('中式料理類')        \n",
    "    if(type_in(hotFire_Name,j)):\n",
    "        has_type.append('熱炒類')  \n",
    "    if(type_in(vegetarian_Name,j) or type_in(vegetarian_type,i)):\n",
    "        has_type.append('素食類')       \n",
    "    if(type_in(dissert_Name,j) or type_in(dissert_type,i)):\n",
    "        has_type.append('點心類')        \n",
    "    if(type_in(otherZone_Name,j) or type_in(otherZone_type,i)):\n",
    "        has_type.append('異國料理類')  \n",
    "    shop_type=','.join(has_type)\n",
    "    shop_type_array.append(shop_type)"
   ]
  },
  {
   "cell_type": "code",
   "execution_count": null,
   "metadata": {},
   "outputs": [],
   "source": []
  },
  {
   "cell_type": "code",
   "execution_count": 74,
   "metadata": {},
   "outputs": [],
   "source": [
    "pd.concat([food,pd.DataFrame({'new_type':shop_type_array})],axis=1).to_csv('taidong.csv',encoding='utf_8_sig')"
   ]
  },
  {
   "cell_type": "code",
   "execution_count": null,
   "metadata": {},
   "outputs": [],
   "source": []
  },
  {
   "cell_type": "code",
   "execution_count": null,
   "metadata": {},
   "outputs": [],
   "source": []
  },
  {
   "cell_type": "code",
   "execution_count": null,
   "metadata": {},
   "outputs": [],
   "source": []
  },
  {
   "cell_type": "code",
   "execution_count": null,
   "metadata": {},
   "outputs": [],
   "source": []
  },
  {
   "cell_type": "code",
   "execution_count": null,
   "metadata": {},
   "outputs": [],
   "source": []
  },
  {
   "cell_type": "code",
   "execution_count": null,
   "metadata": {},
   "outputs": [],
   "source": []
  },
  {
   "cell_type": "code",
   "execution_count": null,
   "metadata": {},
   "outputs": [],
   "source": []
  }
 ],
 "metadata": {
  "kernelspec": {
   "display_name": "Python 3",
   "language": "python",
   "name": "python3"
  },
  "language_info": {
   "codemirror_mode": {
    "name": "ipython",
    "version": 3
   },
   "file_extension": ".py",
   "mimetype": "text/x-python",
   "name": "python",
   "nbconvert_exporter": "python",
   "pygments_lexer": "ipython3",
   "version": "3.7.3"
  }
 },
 "nbformat": 4,
 "nbformat_minor": 2
}
